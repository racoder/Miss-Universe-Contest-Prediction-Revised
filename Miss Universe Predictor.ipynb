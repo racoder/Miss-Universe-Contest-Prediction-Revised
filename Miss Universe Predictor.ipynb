{
 "metadata": {
  "name": "",
  "signature": "sha256:8d08043125cd16d6dce84e26fe4d77a43caac460341c5525210a222947590e87"
 },
 "nbformat": 3,
 "nbformat_minor": 0,
 "worksheets": [
  {
   "cells": [
    {
     "cell_type": "heading",
     "level": 1,
     "metadata": {},
     "source": [
      "<center>Miss Universe 2014 Predictor</center>"
     ]
    },
    {
     "cell_type": "markdown",
     "metadata": {},
     "source": [
      "**Authors: Kanchan Chandnani, Utpal Thakar, Sreenath Mullassery and Ruchi Khandelwal**\n",
      "\n",
      "**Guided by: Professor Steven Skiena**"
     ]
    },
    {
     "cell_type": "markdown",
     "metadata": {},
     "source": [
      "**[Introduction](#intro)**\n",
      "\n",
      "**[Data Cleaning & Extraction](#clean)**\n",
      "\n",
      "**[Observations](#observations)**\n",
      "\n",
      "**[Baseline Model](#baseline)**\n",
      "\n",
      "**[Advanced Models](#advanced)**\n",
      "\n",
      "**[Evaluation, Results & Comparison](#evaluation)**\n",
      "\n",
      "**[Final Model & Prediction](#prediction)**"
     ]
    },
    {
     "cell_type": "markdown",
     "metadata": {},
     "source": [
      "<a id=\"intro\"/>"
     ]
    },
    {
     "cell_type": "markdown",
     "metadata": {},
     "source": [
      "<a id=\"intro\"/>"
     ]
    },
    {
     "cell_type": "markdown",
     "metadata": {},
     "source": [
      "#Introduction"
     ]
    },
    {
     "cell_type": "markdown",
     "metadata": {},
     "source": [
      "This notebook contains code for machine learning model built to predict results for miss universe contest. Machine learning algorithms choices:\n",
      "- Logistic Regression\n",
      "- Naive Bayes\n",
      "- Linear SVM\n",
      "- KNeighbours Classifier\n",
      "- SGD Classifier\n",
      "- Ensemble Classifier\n",
      "\n",
      "Ensemble Classifier - Averages the probabilities calculated by individual estimators and comes up with a prediction."
     ]
    },
    {
     "cell_type": "code",
     "collapsed": false,
     "input": [
      "#Importing libraries used in this notebook\n",
      "import pandas as pd\n",
      "import scipy as sci\n",
      "import csv\n",
      "import os\n",
      "import random as rand\n",
      "from numpy import exp\n",
      "from scipy import stats\n",
      "from pandas import *\n",
      "from sklearn import datasets\n",
      "from sklearn.linear_model import LogisticRegression\n",
      "from sklearn.linear_model import RandomizedLogisticRegression\n",
      "from sklearn.naive_bayes import GaussianNB\n",
      "from sklearn.svm import SVC\n",
      "from sklearn.linear_model import SGDClassifier\n",
      "from sklearn import cross_validation\n",
      "from sklearn.metrics import zero_one_loss\n",
      "from sklearn.metrics import accuracy_score\n",
      "from sklearn.metrics import precision_score\n",
      "from sklearn.metrics import classification_report\n",
      "from sklearn.metrics import confusion_matrix\n",
      "from sklearn import preprocessing\n",
      "from datetime import datetime\n",
      "import time\n",
      "import statsmodels.api as sm\n",
      "from sklearn.neighbors import KNeighborsClassifier\n",
      "from statsmodels.formula.api import logit, probit, poisson, ols\n",
      "from sklearn.svm import SVC\n",
      "from sklearn.cross_validation import StratifiedKFold, permutation_test_score\n",
      "from IPython.display import display, clear_output\n",
      "from IPython.html.widgets import DropdownWidget, TextWidget, IntTextWidget, ButtonWidget, CheckboxWidget\n",
      "import matplotlib.pyplot as plt\n",
      "import seaborn as sns\n",
      "import warnings\n",
      "warnings.filterwarnings('ignore')\n",
      "%matplotlib inline"
     ],
     "language": "python",
     "metadata": {},
     "outputs": [
      {
       "output_type": "stream",
       "stream": "stderr",
       "text": [
        "/usr/local/lib/python2.7/dist-packages/numpy/core/fromnumeric.py:2499: VisibleDeprecationWarning: `rank` is deprecated; use the `ndim` attribute or function instead. To find the rank of a matrix see `numpy.linalg.matrix_rank`.\n",
        "  VisibleDeprecationWarning)\n"
       ]
      }
     ],
     "prompt_number": 1
    },
    {
     "cell_type": "markdown",
     "metadata": {},
     "source": [
      "<a id='clean'/>"
     ]
    },
    {
     "cell_type": "markdown",
     "metadata": {},
     "source": [
      "# Data Cleaning & Extraction"
     ]
    },
    {
     "cell_type": "markdown",
     "metadata": {},
     "source": [
      "Kindly enter the input and output folder path"
     ]
    },
    {
     "cell_type": "code",
     "collapsed": false,
     "input": [
      "# Enter the input (datasets folder) and output folder path\n",
      "os.environ['INPUT_PATH'] = \"/home/rakesh/Downloads/MissUniversze/\" #Inut datasets folder\n",
      "os.environ['OUTPUT_PATH'] = \"/home/rakesh/Downloads/MissUniversze/\" #Output folder path\n",
      "dataset_name = os.getenv('INPUT_PATH', \".\") + \"//AllData.xlsx\"\n",
      "alldata = pd.read_excel(dataset_name,sheetname='AllData')"
     ],
     "language": "python",
     "metadata": {},
     "outputs": [],
     "prompt_number": 2
    },
    {
     "cell_type": "markdown",
     "metadata": {},
     "source": [
      "<a id=\"observations\"/>"
     ]
    },
    {
     "cell_type": "code",
     "collapsed": false,
     "input": [
      "len(alldata)"
     ],
     "language": "python",
     "metadata": {},
     "outputs": [
      {
       "metadata": {},
       "output_type": "pyout",
       "prompt_number": 3,
       "text": [
        "487"
       ]
      }
     ],
     "prompt_number": 3
    },
    {
     "cell_type": "markdown",
     "metadata": {},
     "source": [
      "#Observations"
     ]
    },
    {
     "cell_type": "markdown",
     "metadata": {},
     "source": [
      "Correlation matrix among the features in the data matrix. This is computed to identify features to be included in the final model."
     ]
    },
    {
     "cell_type": "code",
     "collapsed": false,
     "input": [
      "f, ax = plt.subplots(figsize=(14, 14))\n",
      "plot = sns.corrplot(alldata, method=\"spearman\")\n",
      "plt.show()"
     ],
     "language": "python",
     "metadata": {},
     "outputs": [
      {
       "metadata": {},
       "output_type": "display_data",
       "png": "[encoded data removed]",
       "text": [
        "<matplotlib.figure.Figure at 0x7fb516f0e9d0>"
       ]
      }
     ],
     "prompt_number": 3
    },
    {
     "cell_type": "markdown",
     "metadata": {},
     "source": [
      "<a id=\"baseline\"/>"
     ]
    },
    {
     "cell_type": "markdown",
     "metadata": {},
     "source": [
      "#Baseline Model"
     ]
    },
    {
     "cell_type": "markdown",
     "metadata": {},
     "source": [
      "For the Baseline model, countries are ranked according to their performance history in Miss Universe pageants. This is a static ranking, thus the prediction remains the same for all years. "
     ]
    },
    {
     "cell_type": "code",
     "collapsed": false,
     "input": [
      "    #Baseline model\n",
      "    input_path = os.getenv('INPUT_PATH', \".\")\n",
      "    output_path = os.getenv('OUTPUT_PATH', \".\")\n",
      "    bfile = input_path + \"//baseline.csv\"\n",
      "    btop16file = input_path + \"//baselinetop16.csv\"\n",
      "    bdata = pd.read_csv(bfile)\n",
      "    btop16 = pd.read_csv(btop16file)\n",
      "    acc = 0\n",
      "    prec = 0\n",
      "    total = 0\n",
      "    output = bdata['Output']\n",
      "    for eval_year in [\"2009\",\"2010\",\"2011\",\"2012\",\"2013\"]:\n",
      "        tfile = input_path + \"//top16_\" + eval_year +\".csv\"\n",
      "        tdata = pd.read_csv(tfile)\n",
      "        actual = bdata[eval_year]\n",
      "        acc += accuracy_score(actual, output)*100\n",
      "        prec += precision_score(actual, output)*100\n",
      "        #from sklearn.feature_selection import chi2\n",
      "        #X, y = output, actual\n",
      "        #scores, pvalues = chi2(X, y)\n",
      "        #print(pvalues)\n",
      "        predlist = btop16['Country']\n",
      "        correct = 0\n",
      "        for country in predlist:\n",
      "            for c in tdata['Country']:\n",
      "                if(c== country):\n",
      "                    correct+=1\n",
      "        total += correct\n",
      "    print(\"Average performance across all year >> \" + str(total/5) + \" out of top 16 correct\")\n",
      "    print(\"Average performance of baseline model (Accuracy score) \" + str(acc/5))\n",
      "    print(\"Average performance of baseline model (Precision score) \" + str(prec/5))"
     ],
     "language": "python",
     "metadata": {},
     "outputs": [
      {
       "output_type": "stream",
       "stream": "stdout",
       "text": [
        "Average performance across all year >> 4 out of top 16 correct\n",
        "Average performance of baseline model (Accuracy score) 77.9069767442\n",
        "Average performance of baseline model (Precision score) 38.75\n"
       ]
      }
     ],
     "prompt_number": 4
    },
    {
     "cell_type": "markdown",
     "metadata": {},
     "source": [
      "<a id=\"advanced\"/>"
     ]
    },
    {
     "cell_type": "markdown",
     "metadata": {},
     "source": [
      "#Advanced Models"
     ]
    },
    {
     "cell_type": "code",
     "collapsed": false,
     "input": [
      "#Initialyze the classifiers used in the model\n",
      "clfs_names = [\"Logistic Regression\", \"Naive Bayes\", \"Linear SVM\" , \"KNeighbors Classifier\", \"SGD Classifier\", \"Ensemble Classifier\"]\n",
      "clfs = [LogisticRegression(C=1e5), GaussianNB(), SVC(kernel=\"linear\", C=0.025, probability =True),KNeighborsClassifier(), SGDClassifier(loss='log', penalty='l2',alpha=1e-3, n_iter=5), True]\n",
      "classifiers = dict(zip(clfs_names, clfs))\n",
      "ds_names = [\"2009\", \"2010\", \"2011\", \"2012\", \"2013\"]"
     ],
     "language": "python",
     "metadata": {},
     "outputs": [],
     "prompt_number": 4
    },
    {
     "cell_type": "code",
     "collapsed": false,
     "input": [
      "def classify_and_compare_using_all_features_2(classifier_name, no_of_iterations,no_of_runs,eval_year, runid, random_enble, random_iterations):\n",
      "    #Init\n",
      "    input_path = os.getenv('INPUT_PATH', \".\")\n",
      "    output_path = os.getenv('OUTPUT_PATH', \".\")\n",
      "    train_input_file = \"DataWithout\" + eval_year + \".csv\"\n",
      "    test_input_file =  eval_year + \"Data.csv\"\n",
      "    train_dataset = input_path + \"//\" + train_input_file \n",
      "    test_dataset = input_path + \"//\" + test_input_file\n",
      "    \n",
      "    combinedCountry={}\n",
      "    ensemble = False\n",
      "    models = []\n",
      "    clfs = [LogisticRegression(C=1e5), GaussianNB(),SVC(kernel=\"linear\", C=0.025, probability =True),KNeighborsClassifier(), SGDClassifier(loss='log', penalty='l2', alpha=1e-3, n_iter=5), True]\n",
      "    model = classifiers[classifier_name]\n",
      "    if(model==True):\n",
      "        models = clfs\n",
      "        models.remove(True)\n",
      "        ensemble = True \n",
      "    else:\n",
      "        models.append(model)\n",
      "   \n",
      "    top_16 = input_path + \"//top16_\" + eval_year + \".csv\"\n",
      "    alldata = pd.read_csv(train_dataset)\n",
      "    test = pd.read_csv(test_dataset)\n",
      "    top16 = pd.read_csv(top_16)\n",
      "    X1 = alldata.iloc[:,[0,1,2,4,6,7,8,9,10]] \n",
      "\n",
      "    #Copy of Winner Column \n",
      "    Y2 = alldata.iloc[:,[2]]\n",
      "    testdata = pd.DataFrame(columns = ('Age','Height','Winner', 'Country Score'))\n",
      "    Pred = pd.DataFrame(columns = ('Country','Prediction','Count','Winner', 'Output'))\n",
      "    Pred_max = Pred\n",
      "    classifier_count = 0\n",
      "    \n",
      "    for model in models:\n",
      "        if(ensemble):\n",
      "            classifier_name = clfs_names[classifier_count]\n",
      "            classifier_count+=1\n",
      "        directory = output_path + \"//Run_\" + runid + \"//\" + eval_year + \"//\" + classifier_name\n",
      "        if not os.path.exists(directory):\n",
      "            os.makedirs(directory)\n",
      "        output_file_name = output_path + \"//Run_\" + runid + \"//\" + eval_year  + \"//\" + classifier_name + \"//Pred_Results_\" + eval_year +  \".csv\"\n",
      "        summ_file_name = output_path + \"//Run_\" + runid + \"//\" + eval_year + \"//\" + classifier_name + \"//ExecutionSummary.txt\"\n",
      "        sfile = open(summ_file_name, 'wb')\n",
      "        sfile.write(\"\\nRun summary\")\n",
      "        sfile.write(\"\\nEvaluation year : \" + eval_year)\n",
      "        sfile.write(\"\\nModel : \" + classifier_name)\n",
      "        sfile.write(\"\\nNo of iterations : \" + str(no_of_iterations))\n",
      "        sfile.write(\"\\nNo of Runs : \" + str(no_of_runs))\n",
      "        ofile = output_path + \"//Run_\" + runid + \"//\" + \"Complete_Results.csv\"\n",
      "        fieldnames = [\"Eval_Year\",\"Classifier\",\"Avg_Model_Acc\",\"Best_Model_Acc\",\"Avg_Monkey_Acc\",\"Avg_Model_Acc_Score\", \n",
      "                                              \"Avg_Model_zero_one_score\",\n",
      "                                             \"Avg_Model_precision_score\"]\n",
      "        file1 = open(ofile, 'a')\n",
      "        writer = csv.DictWriter(file1, delimiter=',',quoting=csv.QUOTE_MINIMAL, fieldnames = fieldnames)\n",
      "        writer.writeheader()\n",
      "        X_train_max  = X1\n",
      "        Y_train_max = Y2\n",
      "        model_correct = 0\n",
      "        model_correct_max = 0\n",
      "        model_accuracy_score = 0\n",
      "        model_zero_one_loss = 0\n",
      "        model_precision_score = 0\n",
      "        for i in range(no_of_runs):  \n",
      "            Pred = pd.DataFrame(columns = ('Country','Prediction','Count','Winner', 'Output'))\n",
      "            Pred['Country'] = test['Country']\n",
      "            Pred['Winner'] = test['Winner']\n",
      "            Pred['Prediction'] = Series(0.0,index=np.arange(len(test)))\n",
      "            Pred['Count'] = Series(0, index=np.arange(len(test)))\n",
      "            Pred['Output'] = Series(0, index=np.arange(len(test)))\n",
      "            Y1 = []\n",
      "            for index, row in Y2.iterrows():\n",
      "                Y1.append(int(row))\n",
      "\n",
      "            rs = cross_validation.ShuffleSplit(len(Y1),no_of_iterations,test_size=0, random_state=int(round(time.time())))\n",
      "            for train_index,test_index in rs:\n",
      "                Y_test = []\n",
      "                Y_train = []\n",
      "                X_train = pd.DataFrame(columns = ('Age','Height','Winner','Country Score', \n",
      "                                                  'Population', 'Literacy', 'Country Age', 'GDP pre capita','Beauty Score'))\n",
      "                X_0 = pd.DataFrame(columns = ('Age','Height','Winner','Country Score', 'Population', 'Literacy', 'Country Age', 'GDP pre capita'))\n",
      "                Y_0 = []\n",
      "                i = 0\n",
      "                count_1 = 0\n",
      "                for index in train_index:   \n",
      "                    if Y1[index] == 1:\n",
      "                        X_train.loc[i] = X1.ix[index]\n",
      "                        Y_train.append(Y1[index])\n",
      "                        count_1 += 1\n",
      "                        i = i + 1\n",
      "                j = 0\n",
      "                for index in train_index:   \n",
      "                    if Y1[index] == 0:\n",
      "                        X_0.loc[j] = X1.ix[index]\n",
      "                        Y_0.append(Y1[index])\n",
      "                        j += 1\n",
      "\n",
      "                random_0 = rand.sample(xrange(len(X_0)-1), count_1)\n",
      "\n",
      "                for r in random_0:\n",
      "                    X_train.loc[i] = X_0.ix[r]\n",
      "                    Y_train.append(Y_0[r])\n",
      "                    i += 1\n",
      "\n",
      "                #Normalize values\n",
      "                cols = list(X_train.columns)\n",
      "                cols.remove('Winner')\n",
      "                \n",
      "                print X_train.columns, \"test\", test.columns\n",
      "\n",
      "                for col in cols:\n",
      "                    col_zscore = col + '_zscore'\n",
      "                    X_train[col_zscore] = (X_train[col] - X_train[col].mean())/X_train[col].std(ddof=0)\n",
      "\n",
      "                cols = list(test.columns)\n",
      "                cols.remove('Country')\n",
      "                cols.remove('Winner')\n",
      "                cols.remove('Rank')\n",
      "\n",
      "                for col in cols:\n",
      "                    col_zscore = col + '_zscore'\n",
      "                    test[col_zscore] = (test[col] - test[col].mean())/test[col].std(ddof=0)\n",
      "\n",
      "                model.fit(X_train.iloc[:,[9,10,11,12,13,14,15]],Y_train)\n",
      "                #print(model.coef_)\n",
      "                predictions = model.predict_proba(X_train.iloc[:,[9,10,11,12,13,14,15]])\n",
      "                for i in range(0,len(predictions)):\n",
      "                    Pred['Prediction'][i] += predictions[i][1]\n",
      "                    Pred['Count'][i] += 1\n",
      "\n",
      "            for i in range(0,len(Pred)):\n",
      "                Pred['Prediction'][i] /= Pred['Count'][i]\n",
      "            Pred = Pred.sort('Prediction', ascending=False)\n",
      "            Pred = Pred.reset_index(drop=True)\n",
      "\n",
      "            for i in range(0,len(Pred)):\n",
      "                key = Pred['Country'][i]\n",
      "                if(key not in combinedCountry):\n",
      "                    combinedCountry[key] = list()\n",
      "                combinedCountry[key].append(Pred['Prediction'][i])\n",
      "\n",
      "            for i in range(0, len(Pred)):\n",
      "                if(i<16):\n",
      "                    Pred['Output'][i] = 1\n",
      "                else:\n",
      "                    Pred['Output'][i] = 0\n",
      "            \n",
      "            output = Pred.iloc[:,[4]]\n",
      "            actual = Pred.iloc[:,[3]]\n",
      "            e = Pred['Winner'].values.tolist()\n",
      "            f = Pred['Output'].values.tolist()\n",
      "            model_accuracy_score += accuracy_score(actual, output)*100\n",
      "            model_zero_one_loss += 100-(zero_one_loss(actual, output)*100)\n",
      "            model_precision_score += precision_score(actual, output)*100\n",
      "            predlist =  Pred['Country'].head(n=16)\n",
      "            correct=0\n",
      "            for country in predlist:\n",
      "                for c in top16['Country']:\n",
      "                    if(c.strip() == country.strip()):                       \n",
      "                        correct+=1\n",
      "            if(correct > model_correct_max):\n",
      "                model_correct_max = correct\n",
      "                X_train_max  = X_train\n",
      "                Y_train_max = Y_train\n",
      "                Pred_max = Pred\n",
      "                Pred.to_csv(output_file_name)\n",
      "            model_correct += correct\n",
      "            predlist = []\n",
      "            \n",
      "        writer.writerow({\"Eval_Year\" : eval_year,\"Classifier\" : classifier_name ,\"Avg_Model_Acc\" : model_correct/no_of_runs,\"Best_Model_Acc\" :  model_correct_max, \n",
      "                          \"Avg_Model_Acc_Score\" : model_accuracy_score/no_of_runs, \n",
      "                                                  \"Avg_Model_zero_one_score\" : model_zero_one_loss/no_of_runs,\n",
      "                                                 \"Avg_Model_precision_score\" : model_precision_score/no_of_runs, \n",
      "                                                })      \n",
      "        sfile.write(\"\\n************************Results****************************8\")\n",
      "        sfile.write(\"\\n\")\n",
      "        sfile.write(\"\\nOur model performance\")\n",
      "        sfile.write(\"\\nAverage Accuracy of our Model :  Correctly predicted \" + str(model_correct/no_of_runs) + \" out of top 16\") \n",
      "        sfile.write(\"\\nBest performance : Predicted \" + str(model_correct_max) + \" out of top 16\")\n",
      "  \n",
      "        sfile.write(\"\\n\")\n",
      "        score1 = 0\n",
      "        pvalue1 = 0\n",
      "        score = 0\n",
      "        pvalue = 0\n",
      "        sfile.write(\"\\nAverage Performance or our model\")\n",
      "        sfile.write(\"\")\n",
      "        sfile.write(\"\\nAverage Performance of our classifier (Accuracy_Score) is {:.2f}%\".format(model_accuracy_score/no_of_runs))\n",
      "        sfile.write(\"\\nAverage Performance of our classifier (Precision_Score) is {:.2f}%\".format(model_precision_score/no_of_runs))\n",
      "        sfile.write(\"\\n\")\n",
      "        sfile.write(\"\\nModel\\n\")\n",
      "        sfile.write(\"     \" + \" \" + \"Avg Prediction\" + \"  \" + \"Best Prediction\" + \"  \" + \"Avg Accuracy\" + \"  \" + \"Avg precision\")\n",
      "        sfile.write(\"\\n\" + \"Model\" + \" \" + str(model_correct/no_of_runs) + \"      \" + str(model_correct_max)  + \"      \" + \n",
      "               \"      \"  + str(model_accuracy_score/no_of_runs) + \"     \" + str(model_precision_score/no_of_runs))\n",
      "        print(\"Model based on >> \" + str(classifier_name))\n",
      "        print(\"Average performance of model >> \" + str(model_correct/no_of_runs) + \" out of top 16 correctly predicted\")\n",
      "        print(\"Best perfmance of the model >> \" + str(model_correct_max)+ \" out of top 16 correctly predicted\")\n",
      "        print(\"Average Performance of model (Accuracy_Score) is >> \" + (str(model_accuracy_score/no_of_runs)))\n",
      "        print(\"Average Performance of model (Precision_Score) is >> \" + (str(model_precision_score/no_of_runs)))\n",
      "        # View histogram of permutation scores\n",
      "        if(random_enble):\n",
      "            cv = StratifiedKFold(Y_train_max, 2)\n",
      "            score1, permutation_scores1, pvalue1 = permutation_test_score(\n",
      "            model, X_train_max.iloc[:,[9,10,11,12,13,14,15]], Y_train_max, scoring=\"accuracy\", cv=cv, n_permutations=random_iterations, n_jobs=1)\n",
      "            plt.hist(permutation_scores1, 20, label='Permutation scores')\n",
      "            ylim = plt.ylim()\n",
      "            n_classes = 2\n",
      "            plt.plot(2 * [score1], ylim, '--g', linewidth=3,\n",
      "            label='Advanced model (pvalue %.3E)' % pvalue1)\n",
      "            plt.plot(2 * [1. / n_classes], ylim, '--k', linewidth=3, label='Chance')\n",
      "            plt.ylim(ylim)\n",
      "            plt.legend(loc=1)\n",
      "            plt.xlabel('Score')\n",
      "            plt.savefig(output_path + \"\\\\Run_\" + runid + \"\\\\\" + eval_year + \"\\\\\" + classifier_name + \"\\\\Sig_test_our_model.png\")\n",
      "            plt.show()\n",
      "            sfile.write(\"\\nClassification score %s (pvalue : %s)\" % (score1, pvalue1))\n",
      "        file1.close()\n",
      "        sfile.close()\n",
      "\n",
      "    if(ensemble):\n",
      "        actualCountry = {}\n",
      "        for key,value in combinedCountry.iteritems():\n",
      "            temp = 0\n",
      "            count = 0\n",
      "            for cpred in value:\n",
      "                temp = temp + cpred\n",
      "                count = count + 1\n",
      "            actualCountry[key] = temp/count\n",
      "        classifier_name = \"Ensemble Classifier\"\n",
      "        directory = output_path + \"//Run_\" + runid + \"//\" + eval_year + \"//\" + classifier_name\n",
      "        if not os.path.exists(directory):\n",
      "            os.makedirs(directory)\n",
      "        fileLocation = output_path + \"//Run_\" + runid + \"//\" + eval_year + \"//\" + classifier_name + \"//combinedCountry.csv\"\n",
      "        countryOutput = {}\n",
      "        outputFile = pd.read_csv(output_file_name)\n",
      "        for index,row in outputFile.iterrows():\n",
      "            countryOutput[row['Country']] = row['Winner']\n",
      "        file1 = open(fileLocation, 'wb')\n",
      "        writer1 = csv.writer(file1)\n",
      "        writer1.writerow(['Country', 'Prediction', 'Winner'])\n",
      "        for key, value in actualCountry.items():\n",
      "            writer1.writerow([key, value, countryOutput[key]])\n",
      "        file1.close()\n",
      "        \n",
      "        cumulativeResult = pd.DataFrame(columns = ('Country','Prediction', 'Winner'))\n",
      "        cumulativeResult = pd.read_csv(fileLocation)\n",
      "        cumulativeResult = cumulativeResult.sort('Prediction', ascending=False)\n",
      "        cumulativeResult = cumulativeResult.reset_index(drop=True)\n",
      "        \n",
      "        for i in range(0, len(cumulativeResult)):\n",
      "            if(i<int((len(cumulativeResult))/3)):\n",
      "                cumulativeResult['Prediction'][i] = 1\n",
      "            else:\n",
      "                cumulativeResult['Prediction'][i] = 0\n",
      "        \n",
      "        predCombinedList =  cumulativeResult['Country'].head(n=16)\n",
      "        correct=0\n",
      "        for country in predCombinedList:\n",
      "            for c in top16['Country']:\n",
      "                if(c.strip() == country.strip()):\n",
      "                    correct+=1\n",
      "        print(\">>>>>>>Ensemble Classifier (aggregate over Logistic Regression, Naive Bayes, Linear SVM, KNeighbours and SGD Classifier)>>>>>>>>>>\")\n",
      "        print(\"Average performance of \" + str(classifier_name) + \" model >> \" + str(correct) + \" out of top 16 correctly predicted\")\n",
      "        actualCountry = cumulativeResult.iloc[:,[2]]\n",
      "        predictedCountry = cumulativeResult.iloc[:,[1]]\n",
      "        print(\"Average Performance of our model (Accuracy_Score) is >> {:.2f}%\".format(accuracy_score(actualCountry, predictedCountry) * 100))\n",
      "        print(\"Average Performance of our model (Precision_Score) is >> {:.2f}%\".format(precision_score(actualCountry, predictedCountry) *100))"
     ],
     "language": "python",
     "metadata": {},
     "outputs": [],
     "prompt_number": 10
    },
    {
     "cell_type": "markdown",
     "metadata": {},
     "source": [
      "<a id=\"evaluation\"/>"
     ]
    },
    {
     "cell_type": "markdown",
     "metadata": {},
     "source": [
      "#Evaluation, Results and Comparison"
     ]
    },
    {
     "cell_type": "code",
     "collapsed": false,
     "input": [
      "classifierDropDown = DropdownWidget(values=clfs_names, description = \"Select Classifier\")\n",
      "display(classifierDropDown)\n",
      "numberOfRunsText = IntTextWidget(description = \"Number of runs of classifier\", value = 1)\n",
      "display(numberOfRunsText)\n",
      "numberOfIterationsText = IntTextWidget(description = \"Number of iteraions within a run\", value = 1)\n",
      "numberOfIterationsText.value = 10\n",
      "display(numberOfIterationsText)\n",
      "evalYearDropDown = DropdownWidget(values=ds_names, description = \"Evaluation Year\")\n",
      "display(evalYearDropDown)\n",
      "randomCheckbox = CheckboxWidget(description = \"Enable significance test of model (random classifier)\")\n",
      "randomCheckbox.value = True\n",
      "display(randomCheckbox)\n",
      "randomText = IntTextWidget(description = \"Random classifier iterations\")\n",
      "randomText.value = 1000\n",
      "display(randomText)\n",
      "runIdText = TextWidget(description = \"Run id (optional)\")\n",
      "display(runIdText)\n",
      "button = ButtonWidget(description=\"Submit!\")\n",
      "display(button)\n",
      "\n",
      "def on_button_clicked(button):\n",
      "    clear_output(wait=True)\n",
      "    classify_and_compare_using_all_features_2(classifierDropDown.value, numberOfIterationsText.value, numberOfRunsText.value, evalYearDropDown.value, runIdText.value, randomCheckbox.value, randomText.value)\n",
      "\n",
      "button.on_click(on_button_clicked)"
     ],
     "language": "python",
     "metadata": {},
     "outputs": [
      {
       "output_type": "stream",
       "stream": "stdout",
       "text": [
        "Index([u'Age', u'Height', u'Winner', u'Country Score', u'Population', u'Literacy', u'Country Age', u'GDP pre capita', u'Beauty Score'], dtype='object') test Index([u'Age', u'Height', u'Winner', u'Rank', u'Country Score', u'Country', u'Population', u'Literacy', u'Country Age', u'GDP pre capita', u'Beauty Score', u'Year'], dtype='object')\n"
       ]
      },
      {
       "ename": "AttributeError",
       "evalue": "exp",
       "output_type": "pyerr",
       "traceback": [
        "\u001b[1;31m---------------------------------------------------------------------------\u001b[0m\n\u001b[1;31mAttributeError\u001b[0m                            Traceback (most recent call last)",
        "\u001b[1;32m<ipython-input-11-464ed346515a>\u001b[0m in \u001b[0;36mon_button_clicked\u001b[1;34m(button)\u001b[0m\n\u001b[0;32m     21\u001b[0m \u001b[1;32mdef\u001b[0m \u001b[0mon_button_clicked\u001b[0m\u001b[1;33m(\u001b[0m\u001b[0mbutton\u001b[0m\u001b[1;33m)\u001b[0m\u001b[1;33m:\u001b[0m\u001b[1;33m\u001b[0m\u001b[0m\n\u001b[0;32m     22\u001b[0m     \u001b[0mclear_output\u001b[0m\u001b[1;33m(\u001b[0m\u001b[0mwait\u001b[0m\u001b[1;33m=\u001b[0m\u001b[0mTrue\u001b[0m\u001b[1;33m)\u001b[0m\u001b[1;33m\u001b[0m\u001b[0m\n\u001b[1;32m---> 23\u001b[1;33m     \u001b[0mclassify_and_compare_using_all_features_2\u001b[0m\u001b[1;33m(\u001b[0m\u001b[0mclassifierDropDown\u001b[0m\u001b[1;33m.\u001b[0m\u001b[0mvalue\u001b[0m\u001b[1;33m,\u001b[0m \u001b[0mnumberOfIterationsText\u001b[0m\u001b[1;33m.\u001b[0m\u001b[0mvalue\u001b[0m\u001b[1;33m,\u001b[0m \u001b[0mnumberOfRunsText\u001b[0m\u001b[1;33m.\u001b[0m\u001b[0mvalue\u001b[0m\u001b[1;33m,\u001b[0m \u001b[0mevalYearDropDown\u001b[0m\u001b[1;33m.\u001b[0m\u001b[0mvalue\u001b[0m\u001b[1;33m,\u001b[0m \u001b[0mrunIdText\u001b[0m\u001b[1;33m.\u001b[0m\u001b[0mvalue\u001b[0m\u001b[1;33m,\u001b[0m \u001b[0mrandomCheckbox\u001b[0m\u001b[1;33m.\u001b[0m\u001b[0mvalue\u001b[0m\u001b[1;33m,\u001b[0m \u001b[0mrandomText\u001b[0m\u001b[1;33m.\u001b[0m\u001b[0mvalue\u001b[0m\u001b[1;33m)\u001b[0m\u001b[1;33m\u001b[0m\u001b[0m\n\u001b[0m\u001b[0;32m     24\u001b[0m \u001b[1;33m\u001b[0m\u001b[0m\n\u001b[0;32m     25\u001b[0m \u001b[0mbutton\u001b[0m\u001b[1;33m.\u001b[0m\u001b[0mon_click\u001b[0m\u001b[1;33m(\u001b[0m\u001b[0mon_button_clicked\u001b[0m\u001b[1;33m)\u001b[0m\u001b[1;33m\u001b[0m\u001b[0m\n",
        "\u001b[1;32m<ipython-input-10-e7d6583b4fba>\u001b[0m in \u001b[0;36mclassify_and_compare_using_all_features_2\u001b[1;34m(classifier_name, no_of_iterations, no_of_runs, eval_year, runid, random_enble, random_iterations)\u001b[0m\n\u001b[0;32m    124\u001b[0m                 \u001b[0mmodel\u001b[0m\u001b[1;33m.\u001b[0m\u001b[0mfit\u001b[0m\u001b[1;33m(\u001b[0m\u001b[0mX_train\u001b[0m\u001b[1;33m.\u001b[0m\u001b[0miloc\u001b[0m\u001b[1;33m[\u001b[0m\u001b[1;33m:\u001b[0m\u001b[1;33m,\u001b[0m\u001b[1;33m[\u001b[0m\u001b[1;36m9\u001b[0m\u001b[1;33m,\u001b[0m\u001b[1;36m10\u001b[0m\u001b[1;33m,\u001b[0m\u001b[1;36m11\u001b[0m\u001b[1;33m,\u001b[0m\u001b[1;36m12\u001b[0m\u001b[1;33m,\u001b[0m\u001b[1;36m13\u001b[0m\u001b[1;33m,\u001b[0m\u001b[1;36m14\u001b[0m\u001b[1;33m,\u001b[0m\u001b[1;36m15\u001b[0m\u001b[1;33m]\u001b[0m\u001b[1;33m]\u001b[0m\u001b[1;33m,\u001b[0m\u001b[0mY_train\u001b[0m\u001b[1;33m)\u001b[0m\u001b[1;33m\u001b[0m\u001b[0m\n\u001b[0;32m    125\u001b[0m                 \u001b[1;31m#print(model.coef_)\u001b[0m\u001b[1;33m\u001b[0m\u001b[1;33m\u001b[0m\u001b[0m\n\u001b[1;32m--> 126\u001b[1;33m                 \u001b[0mpredictions\u001b[0m \u001b[1;33m=\u001b[0m \u001b[0mmodel\u001b[0m\u001b[1;33m.\u001b[0m\u001b[0mpredict_proba\u001b[0m\u001b[1;33m(\u001b[0m\u001b[0mX_train\u001b[0m\u001b[1;33m.\u001b[0m\u001b[0miloc\u001b[0m\u001b[1;33m[\u001b[0m\u001b[1;33m:\u001b[0m\u001b[1;33m,\u001b[0m\u001b[1;33m[\u001b[0m\u001b[1;36m9\u001b[0m\u001b[1;33m,\u001b[0m\u001b[1;36m10\u001b[0m\u001b[1;33m,\u001b[0m\u001b[1;36m11\u001b[0m\u001b[1;33m,\u001b[0m\u001b[1;36m12\u001b[0m\u001b[1;33m,\u001b[0m\u001b[1;36m13\u001b[0m\u001b[1;33m,\u001b[0m\u001b[1;36m14\u001b[0m\u001b[1;33m,\u001b[0m\u001b[1;36m15\u001b[0m\u001b[1;33m]\u001b[0m\u001b[1;33m]\u001b[0m\u001b[1;33m)\u001b[0m\u001b[1;33m\u001b[0m\u001b[0m\n\u001b[0m\u001b[0;32m    127\u001b[0m                 \u001b[1;32mfor\u001b[0m \u001b[0mi\u001b[0m \u001b[1;32min\u001b[0m \u001b[0mrange\u001b[0m\u001b[1;33m(\u001b[0m\u001b[1;36m0\u001b[0m\u001b[1;33m,\u001b[0m\u001b[0mlen\u001b[0m\u001b[1;33m(\u001b[0m\u001b[0mpredictions\u001b[0m\u001b[1;33m)\u001b[0m\u001b[1;33m)\u001b[0m\u001b[1;33m:\u001b[0m\u001b[1;33m\u001b[0m\u001b[0m\n\u001b[0;32m    128\u001b[0m                     \u001b[0mPred\u001b[0m\u001b[1;33m[\u001b[0m\u001b[1;34m'Prediction'\u001b[0m\u001b[1;33m]\u001b[0m\u001b[1;33m[\u001b[0m\u001b[0mi\u001b[0m\u001b[1;33m]\u001b[0m \u001b[1;33m+=\u001b[0m \u001b[0mpredictions\u001b[0m\u001b[1;33m[\u001b[0m\u001b[0mi\u001b[0m\u001b[1;33m]\u001b[0m\u001b[1;33m[\u001b[0m\u001b[1;36m1\u001b[0m\u001b[1;33m]\u001b[0m\u001b[1;33m\u001b[0m\u001b[0m\n",
        "\u001b[1;32m/usr/lib/python2.7/dist-packages/sklearn/linear_model/logistic.pyc\u001b[0m in \u001b[0;36mpredict_proba\u001b[1;34m(self, X)\u001b[0m\n\u001b[0;32m    120\u001b[0m             \u001b[0mwhere\u001b[0m \u001b[0mclasses\u001b[0m \u001b[0mare\u001b[0m \u001b[0mordered\u001b[0m \u001b[1;32mas\u001b[0m \u001b[0mthey\u001b[0m \u001b[0mare\u001b[0m \u001b[1;32min\u001b[0m \u001b[1;33m`\u001b[0m\u001b[1;33m`\u001b[0m\u001b[0mself\u001b[0m\u001b[1;33m.\u001b[0m\u001b[0mclasses_\u001b[0m\u001b[1;33m`\u001b[0m\u001b[1;33m`\u001b[0m\u001b[1;33m.\u001b[0m\u001b[1;33m\u001b[0m\u001b[0m\n\u001b[0;32m    121\u001b[0m         \"\"\"\n\u001b[1;32m--> 122\u001b[1;33m         \u001b[1;32mreturn\u001b[0m \u001b[0mself\u001b[0m\u001b[1;33m.\u001b[0m\u001b[0m_predict_proba_lr\u001b[0m\u001b[1;33m(\u001b[0m\u001b[0mX\u001b[0m\u001b[1;33m)\u001b[0m\u001b[1;33m\u001b[0m\u001b[0m\n\u001b[0m\u001b[0;32m    123\u001b[0m \u001b[1;33m\u001b[0m\u001b[0m\n\u001b[0;32m    124\u001b[0m     \u001b[1;32mdef\u001b[0m \u001b[0mpredict_log_proba\u001b[0m\u001b[1;33m(\u001b[0m\u001b[0mself\u001b[0m\u001b[1;33m,\u001b[0m \u001b[0mX\u001b[0m\u001b[1;33m)\u001b[0m\u001b[1;33m:\u001b[0m\u001b[1;33m\u001b[0m\u001b[0m\n",
        "\u001b[1;32m/usr/lib/python2.7/dist-packages/sklearn/linear_model/base.pyc\u001b[0m in \u001b[0;36m_predict_proba_lr\u001b[1;34m(self, X)\u001b[0m\n\u001b[0;32m    237\u001b[0m         \u001b[0mprob\u001b[0m \u001b[1;33m=\u001b[0m \u001b[0mself\u001b[0m\u001b[1;33m.\u001b[0m\u001b[0mdecision_function\u001b[0m\u001b[1;33m(\u001b[0m\u001b[0mX\u001b[0m\u001b[1;33m)\u001b[0m\u001b[1;33m\u001b[0m\u001b[0m\n\u001b[0;32m    238\u001b[0m         \u001b[0mprob\u001b[0m \u001b[1;33m*=\u001b[0m \u001b[1;33m-\u001b[0m\u001b[1;36m1\u001b[0m\u001b[1;33m\u001b[0m\u001b[0m\n\u001b[1;32m--> 239\u001b[1;33m         \u001b[0mnp\u001b[0m\u001b[1;33m.\u001b[0m\u001b[0mexp\u001b[0m\u001b[1;33m(\u001b[0m\u001b[0mprob\u001b[0m\u001b[1;33m,\u001b[0m \u001b[0mprob\u001b[0m\u001b[1;33m)\u001b[0m\u001b[1;33m\u001b[0m\u001b[0m\n\u001b[0m\u001b[0;32m    240\u001b[0m         \u001b[0mprob\u001b[0m \u001b[1;33m+=\u001b[0m \u001b[1;36m1\u001b[0m\u001b[1;33m\u001b[0m\u001b[0m\n\u001b[0;32m    241\u001b[0m         \u001b[0mnp\u001b[0m\u001b[1;33m.\u001b[0m\u001b[0mreciprocal\u001b[0m\u001b[1;33m(\u001b[0m\u001b[0mprob\u001b[0m\u001b[1;33m,\u001b[0m \u001b[0mprob\u001b[0m\u001b[1;33m)\u001b[0m\u001b[1;33m\u001b[0m\u001b[0m\n",
        "\u001b[1;31mAttributeError\u001b[0m: exp"
       ]
      }
     ],
     "prompt_number": 11
    },
    {
     "cell_type": "markdown",
     "metadata": {},
     "source": [
      "<a id=\"prediction\"/>"
     ]
    },
    {
     "cell_type": "markdown",
     "metadata": {},
     "source": [
      "#Final Model & Prediction"
     ]
    },
    {
     "cell_type": "markdown",
     "metadata": {},
     "source": [
      "######Based on the findings from running the above models for multiple classifiers and comparing the accuracy scores, we selected our final model to be Logistic regression.\n",
      "\n",
      "######Below function predicts the probability(in top 16) for contestants of 2014."
     ]
    },
    {
     "cell_type": "code",
     "collapsed": false,
     "input": [
      "def classify_and_predict_using_all_features(no_of_iterations,runid):\n",
      "    #Init\n",
      "    classifier_name = \"Logistic Regression\"\n",
      "    input_path = os.getenv('INPUT_PATH', \".\")\n",
      "    output_path = os.getenv('OUTPUT_PATH', \".\")\n",
      "    train_input_file = \"AllData.csv\"\n",
      "    train_dataset = input_path + \"//\" + train_input_file \n",
      "    directory = output_path + \"//Predictions//\"\n",
      "    if not os.path.exists(directory):\n",
      "        os.makedirs(directory)\n",
      "    test = pd.read_csv(input_path + \"//2014Data.csv\")\n",
      "    output_file_name = output_path + \"//Predictions//\" + \"//Prediction_with_\" + classifier_name + \"_\" + str(runid) + \".txt\"\n",
      "    sfile = open(output_file_name,\"a\")\n",
      "    model = classifiers[classifier_name]\n",
      "    sfile.write(\"Run summary\")\n",
      "    sfile.write(\"\\nPredicting top 16 for 2014\")\n",
      "    sfile.write(\"\\nModel : \" + classifier_name)\n",
      "    sfile.write(\"\\nNo of iterations : \" + str(no_of_iterations))\n",
      "    alldata = pd.read_csv(train_dataset)\n",
      "    \n",
      "    # Age\tHeight\tWinner\tRank\tCountry Score\tCountry\tPopulation\tLiteracy\tCountry Age\tGDP pre capita\tBeauty Score\n",
      "    X1 = alldata.iloc[:,[0,1,2,4,6,7,8,9,10]] \n",
      "    \n",
      "    #Copy of Winner Column \n",
      "    Y2 = alldata.iloc[:,[2]]\n",
      "    Pred = pd.DataFrame(columns = ('Country','Prediction','Count','Winner', 'Output'))\n",
      "    Pred['Country'] = test['Country']\n",
      "    Pred['Prediction'] = Series(0.0,index=np.arange(len(test)))\n",
      "    Pred['Count'] = Series(0, index=np.arange(len(test)))\n",
      "    Pred['Output'] = Series(0, index=np.arange(len(test)))\n",
      "    Y1 = []\n",
      "    for index, row in Y2.iterrows():\n",
      "        Y1.append(int(row))\n",
      "    rs = cross_validation.ShuffleSplit(len(Y1),no_of_iterations,test_size=0, random_state=int(round(time.time())))\n",
      "    for train_index,test_index in rs:\n",
      "        Y_test = []\n",
      "        Y_train = []\n",
      "        X_train = pd.DataFrame(columns = ('Age','Height','Winner','Country Score', \n",
      "                                          'Population', 'Literacy', 'Country Age', 'GDP pre capita','Beauty Score'))\n",
      "        X_0 = pd.DataFrame(columns = ('Age','Height','Winner','Country Score', 'Population', 'Literacy', 'Country Age', 'GDP pre capita'))\n",
      "        Y_0 = []\n",
      "        i = 0\n",
      "        count_1 = 0\n",
      "        for index in train_index:   \n",
      "            if Y1[index] == 1:\n",
      "                X_train.loc[i] = X1.ix[index]\n",
      "                Y_train.append(Y1[index])\n",
      "                count_1 += 1\n",
      "                i = i + 1\n",
      "        j = 0\n",
      "        for index in train_index:   \n",
      "            if Y1[index] == 0:\n",
      "                X_0.loc[j] = X1.ix[index]\n",
      "                Y_0.append(Y1[index])\n",
      "                j += 1\n",
      "        random_0 = rand.sample(xrange(len(X_0)-1), count_1)\n",
      "        for r in random_0:\n",
      "            X_train.loc[i] = X_0.ix[r]\n",
      "            Y_train.append(Y_0[r])\n",
      "            i += 1\n",
      "        #Normalize values\n",
      "        cols = list(X_train.columns)\n",
      "        cols.remove('Winner')\n",
      "        for col in cols:\n",
      "            col_zscore = col + '_zscore'\n",
      "            X_train[col_zscore] = (X_train[col] - X_train[col].mean())/X_train[col].std(ddof=0)\n",
      "        cols = list(test.columns)\n",
      "        cols.remove('Country')\n",
      "        cols.remove('Winner')\n",
      "        cols.remove('Rank')\n",
      "        for col in cols:\n",
      "            col_zscore = col + '_zscore'\n",
      "            test[col_zscore] = (test[col] - test[col].mean())/test[col].std(ddof=0)\n",
      "        model.fit(X_train.iloc[:,[9,10,11,12,13,14,15]],Y_train)\n",
      "        #print(model.coef_)\n",
      "        predictions = model.predict_proba(X_train.iloc[:,[9,10,11,12,13,14,15]])\n",
      "    for i in range(0,len(predictions)):\n",
      "        Pred['Prediction'][i] += predictions[i][1]\n",
      "        Pred['Count'][i] += 1\n",
      "    for i in range(0,len(Pred)):\n",
      "        Pred['Prediction'][i] /= Pred['Count'][i]\n",
      "    Pred = Pred.sort('Prediction', ascending=False)\n",
      "    Pred = Pred.reset_index(drop=True)\n",
      "    for i in range(0, len(Pred)):\n",
      "        if(i<16):\n",
      "            Pred['Output'][i] = 1\n",
      "        else:\n",
      "            Pred['Output'][i] = 0\n",
      "    predlist =  Pred['Country'].head(n=16)\n",
      "    print(\"Our top 16 predictions (in order) for 2014 - See output file for complete list\")\n",
      "    print(predlist)\n",
      "    sfile.write(\"\\nOur Top 16 Prediction\\n\\n\")\n",
      "    sfile.write(\"\\n\".join(predlist))\n",
      "    sfile.close()"
     ],
     "language": "python",
     "metadata": {},
     "outputs": [],
     "prompt_number": 8
    },
    {
     "cell_type": "code",
     "collapsed": false,
     "input": [
      "numberOfIterationsText2014 = IntTextWidget(description = \"Number of iteraions within a run\", value = 1)\n",
      "numberOfIterationsText2014.value = 100\n",
      "display(numberOfIterationsText2014)\n",
      "runIdText2014 = TextWidget(description = \"Run id (optional)\")\n",
      "display(runIdText2014)\n",
      "button2014 = ButtonWidget(description=\"Submit!\")\n",
      "display(button2014)\n",
      "\n",
      "def on_button_clicked(button2014):\n",
      "    clear_output(wait=True)\n",
      "    classify_and_predict_using_all_features(numberOfIterationsText2014.value, runIdText2014.value)\n",
      "\n",
      "button2014.on_click(on_button_clicked)"
     ],
     "language": "python",
     "metadata": {},
     "outputs": [
      {
       "ename": "AttributeError",
       "evalue": "exp",
       "output_type": "pyerr",
       "traceback": [
        "\u001b[1;31m---------------------------------------------------------------------------\u001b[0m\n\u001b[1;31mAttributeError\u001b[0m                            Traceback (most recent call last)",
        "\u001b[1;32m<ipython-input-9-c4d8cc0193c3>\u001b[0m in \u001b[0;36mon_button_clicked\u001b[1;34m(button2014)\u001b[0m\n\u001b[0;32m      9\u001b[0m \u001b[1;32mdef\u001b[0m \u001b[0mon_button_clicked\u001b[0m\u001b[1;33m(\u001b[0m\u001b[0mbutton2014\u001b[0m\u001b[1;33m)\u001b[0m\u001b[1;33m:\u001b[0m\u001b[1;33m\u001b[0m\u001b[0m\n\u001b[0;32m     10\u001b[0m     \u001b[0mclear_output\u001b[0m\u001b[1;33m(\u001b[0m\u001b[0mwait\u001b[0m\u001b[1;33m=\u001b[0m\u001b[0mTrue\u001b[0m\u001b[1;33m)\u001b[0m\u001b[1;33m\u001b[0m\u001b[0m\n\u001b[1;32m---> 11\u001b[1;33m     \u001b[0mclassify_and_predict_using_all_features\u001b[0m\u001b[1;33m(\u001b[0m\u001b[0mnumberOfIterationsText2014\u001b[0m\u001b[1;33m.\u001b[0m\u001b[0mvalue\u001b[0m\u001b[1;33m,\u001b[0m \u001b[0mrunIdText2014\u001b[0m\u001b[1;33m.\u001b[0m\u001b[0mvalue\u001b[0m\u001b[1;33m)\u001b[0m\u001b[1;33m\u001b[0m\u001b[0m\n\u001b[0m\u001b[0;32m     12\u001b[0m \u001b[1;33m\u001b[0m\u001b[0m\n\u001b[0;32m     13\u001b[0m \u001b[0mbutton2014\u001b[0m\u001b[1;33m.\u001b[0m\u001b[0mon_click\u001b[0m\u001b[1;33m(\u001b[0m\u001b[0mon_button_clicked\u001b[0m\u001b[1;33m)\u001b[0m\u001b[1;33m\u001b[0m\u001b[0m\n",
        "\u001b[1;32m<ipython-input-8-f8025d900c13>\u001b[0m in \u001b[0;36mclassify_and_predict_using_all_features\u001b[1;34m(no_of_iterations, runid)\u001b[0m\n\u001b[0;32m     74\u001b[0m         \u001b[0mmodel\u001b[0m\u001b[1;33m.\u001b[0m\u001b[0mfit\u001b[0m\u001b[1;33m(\u001b[0m\u001b[0mX_train\u001b[0m\u001b[1;33m.\u001b[0m\u001b[0miloc\u001b[0m\u001b[1;33m[\u001b[0m\u001b[1;33m:\u001b[0m\u001b[1;33m,\u001b[0m\u001b[1;33m[\u001b[0m\u001b[1;36m9\u001b[0m\u001b[1;33m,\u001b[0m\u001b[1;36m10\u001b[0m\u001b[1;33m,\u001b[0m\u001b[1;36m11\u001b[0m\u001b[1;33m,\u001b[0m\u001b[1;36m12\u001b[0m\u001b[1;33m,\u001b[0m\u001b[1;36m13\u001b[0m\u001b[1;33m,\u001b[0m\u001b[1;36m14\u001b[0m\u001b[1;33m,\u001b[0m\u001b[1;36m15\u001b[0m\u001b[1;33m]\u001b[0m\u001b[1;33m]\u001b[0m\u001b[1;33m,\u001b[0m\u001b[0mY_train\u001b[0m\u001b[1;33m)\u001b[0m\u001b[1;33m\u001b[0m\u001b[0m\n\u001b[0;32m     75\u001b[0m         \u001b[1;31m#print(model.coef_)\u001b[0m\u001b[1;33m\u001b[0m\u001b[1;33m\u001b[0m\u001b[0m\n\u001b[1;32m---> 76\u001b[1;33m         \u001b[0mpredictions\u001b[0m \u001b[1;33m=\u001b[0m \u001b[0mmodel\u001b[0m\u001b[1;33m.\u001b[0m\u001b[0mpredict_proba\u001b[0m\u001b[1;33m(\u001b[0m\u001b[0mX_train\u001b[0m\u001b[1;33m.\u001b[0m\u001b[0miloc\u001b[0m\u001b[1;33m[\u001b[0m\u001b[1;33m:\u001b[0m\u001b[1;33m,\u001b[0m\u001b[1;33m[\u001b[0m\u001b[1;36m9\u001b[0m\u001b[1;33m,\u001b[0m\u001b[1;36m10\u001b[0m\u001b[1;33m,\u001b[0m\u001b[1;36m11\u001b[0m\u001b[1;33m,\u001b[0m\u001b[1;36m12\u001b[0m\u001b[1;33m,\u001b[0m\u001b[1;36m13\u001b[0m\u001b[1;33m,\u001b[0m\u001b[1;36m14\u001b[0m\u001b[1;33m,\u001b[0m\u001b[1;36m15\u001b[0m\u001b[1;33m]\u001b[0m\u001b[1;33m]\u001b[0m\u001b[1;33m)\u001b[0m\u001b[1;33m\u001b[0m\u001b[0m\n\u001b[0m\u001b[0;32m     77\u001b[0m     \u001b[1;32mfor\u001b[0m \u001b[0mi\u001b[0m \u001b[1;32min\u001b[0m \u001b[0mrange\u001b[0m\u001b[1;33m(\u001b[0m\u001b[1;36m0\u001b[0m\u001b[1;33m,\u001b[0m\u001b[0mlen\u001b[0m\u001b[1;33m(\u001b[0m\u001b[0mpredictions\u001b[0m\u001b[1;33m)\u001b[0m\u001b[1;33m)\u001b[0m\u001b[1;33m:\u001b[0m\u001b[1;33m\u001b[0m\u001b[0m\n\u001b[0;32m     78\u001b[0m         \u001b[0mPred\u001b[0m\u001b[1;33m[\u001b[0m\u001b[1;34m'Prediction'\u001b[0m\u001b[1;33m]\u001b[0m\u001b[1;33m[\u001b[0m\u001b[0mi\u001b[0m\u001b[1;33m]\u001b[0m \u001b[1;33m+=\u001b[0m \u001b[0mpredictions\u001b[0m\u001b[1;33m[\u001b[0m\u001b[0mi\u001b[0m\u001b[1;33m]\u001b[0m\u001b[1;33m[\u001b[0m\u001b[1;36m1\u001b[0m\u001b[1;33m]\u001b[0m\u001b[1;33m\u001b[0m\u001b[0m\n",
        "\u001b[1;32m/usr/lib/python2.7/dist-packages/sklearn/linear_model/logistic.pyc\u001b[0m in \u001b[0;36mpredict_proba\u001b[1;34m(self, X)\u001b[0m\n\u001b[0;32m    120\u001b[0m             \u001b[0mwhere\u001b[0m \u001b[0mclasses\u001b[0m \u001b[0mare\u001b[0m \u001b[0mordered\u001b[0m \u001b[1;32mas\u001b[0m \u001b[0mthey\u001b[0m \u001b[0mare\u001b[0m \u001b[1;32min\u001b[0m \u001b[1;33m`\u001b[0m\u001b[1;33m`\u001b[0m\u001b[0mself\u001b[0m\u001b[1;33m.\u001b[0m\u001b[0mclasses_\u001b[0m\u001b[1;33m`\u001b[0m\u001b[1;33m`\u001b[0m\u001b[1;33m.\u001b[0m\u001b[1;33m\u001b[0m\u001b[0m\n\u001b[0;32m    121\u001b[0m         \"\"\"\n\u001b[1;32m--> 122\u001b[1;33m         \u001b[1;32mreturn\u001b[0m \u001b[0mself\u001b[0m\u001b[1;33m.\u001b[0m\u001b[0m_predict_proba_lr\u001b[0m\u001b[1;33m(\u001b[0m\u001b[0mX\u001b[0m\u001b[1;33m)\u001b[0m\u001b[1;33m\u001b[0m\u001b[0m\n\u001b[0m\u001b[0;32m    123\u001b[0m \u001b[1;33m\u001b[0m\u001b[0m\n\u001b[0;32m    124\u001b[0m     \u001b[1;32mdef\u001b[0m \u001b[0mpredict_log_proba\u001b[0m\u001b[1;33m(\u001b[0m\u001b[0mself\u001b[0m\u001b[1;33m,\u001b[0m \u001b[0mX\u001b[0m\u001b[1;33m)\u001b[0m\u001b[1;33m:\u001b[0m\u001b[1;33m\u001b[0m\u001b[0m\n",
        "\u001b[1;32m/usr/lib/python2.7/dist-packages/sklearn/linear_model/base.pyc\u001b[0m in \u001b[0;36m_predict_proba_lr\u001b[1;34m(self, X)\u001b[0m\n\u001b[0;32m    237\u001b[0m         \u001b[0mprob\u001b[0m \u001b[1;33m=\u001b[0m \u001b[0mself\u001b[0m\u001b[1;33m.\u001b[0m\u001b[0mdecision_function\u001b[0m\u001b[1;33m(\u001b[0m\u001b[0mX\u001b[0m\u001b[1;33m)\u001b[0m\u001b[1;33m\u001b[0m\u001b[0m\n\u001b[0;32m    238\u001b[0m         \u001b[0mprob\u001b[0m \u001b[1;33m*=\u001b[0m \u001b[1;33m-\u001b[0m\u001b[1;36m1\u001b[0m\u001b[1;33m\u001b[0m\u001b[0m\n\u001b[1;32m--> 239\u001b[1;33m         \u001b[0mnp\u001b[0m\u001b[1;33m.\u001b[0m\u001b[0mexp\u001b[0m\u001b[1;33m(\u001b[0m\u001b[0mprob\u001b[0m\u001b[1;33m,\u001b[0m \u001b[0mprob\u001b[0m\u001b[1;33m)\u001b[0m\u001b[1;33m\u001b[0m\u001b[0m\n\u001b[0m\u001b[0;32m    240\u001b[0m         \u001b[0mprob\u001b[0m \u001b[1;33m+=\u001b[0m \u001b[1;36m1\u001b[0m\u001b[1;33m\u001b[0m\u001b[0m\n\u001b[0;32m    241\u001b[0m         \u001b[0mnp\u001b[0m\u001b[1;33m.\u001b[0m\u001b[0mreciprocal\u001b[0m\u001b[1;33m(\u001b[0m\u001b[0mprob\u001b[0m\u001b[1;33m,\u001b[0m \u001b[0mprob\u001b[0m\u001b[1;33m)\u001b[0m\u001b[1;33m\u001b[0m\u001b[0m\n",
        "\u001b[1;31mAttributeError\u001b[0m: exp"
       ]
      }
     ],
     "prompt_number": 9
    },
    {
     "cell_type": "code",
     "collapsed": false,
     "input": [],
     "language": "python",
     "metadata": {},
     "outputs": []
    }
   ],
   "metadata": {}
  }
 ]
}